{
 "cells": [
  {
   "cell_type": "markdown",
   "metadata": {},
   "source": [
    "# Execution notebook\n",
    "This notebook serves as a walk-through of the code to execute training of the ViT keypoint tracker"
   ]
  },
  {
   "cell_type": "code",
   "execution_count": 1,
   "metadata": {},
   "outputs": [],
   "source": [
    "from utils.train_test_split import test_train_split"
   ]
  },
  {
   "cell_type": "markdown",
   "metadata": {},
   "source": [
    "## Data Preprocessing\n",
    "\n",
    "### Test-train split (incl. dropping NAs)"
   ]
  },
  {
   "cell_type": "code",
   "execution_count": 2,
   "metadata": {},
   "outputs": [
    {
     "name": "stdout",
     "output_type": "stream",
     "text": [
      "Invalid image name: nan\n",
      "Invalid image name: nan\n",
      "Invalid image name: nan\n",
      "Invalid image name: nan\n"
     ]
    },
    {
     "data": {
      "text/plain": [
       "(           scorer   Unnamed: 1   Unnamed: 2                AVS  \\\n",
       " 3    labeled-data  cam1_G7c1_1  img0068.png  589.0232336327339   \n",
       " 43   labeled-data  cam1_G7c1_1  img2997.png  590.5093017792906   \n",
       " 48   labeled-data  cam1_G7c1_1  img3575.png  589.0232336327339   \n",
       " 68   labeled-data  cam1_G7c1_1  img5379.png  581.5928928999506   \n",
       " 79   labeled-data  cam1_G7c1_1  img6392.png  586.0510973396206   \n",
       " 89   labeled-data  cam1_G7c1_1  img7197.png  583.0789610465073   \n",
       " 105  labeled-data  cam1_G7c1_1  img8629.png  587.5371654861773   \n",
       " \n",
       "                  AVS.1               AVS.2               AVS.3  \\\n",
       " 3    67.63932048311811  502.83128113244777  106.27709229359114   \n",
       " 43   67.63932048311811  507.28948557211777  106.27709229359114   \n",
       " 48   64.66718419000479  507.28948557211777  101.81888785392117   \n",
       " 68   64.66718419000479   498.3730766927779  122.62384190571437   \n",
       " 79   67.63932048311811  507.28948557211777  109.24922858670446   \n",
       " 89   67.63932048311811   504.3173492790045  104.79102414703449   \n",
       " 105  64.66718419000479   508.7755537186745  112.22136487981778   \n",
       " \n",
       "                  AVS.4               AVS.5              AVS.6  ...  \\\n",
       " 3    562.2740069947141   173.1501588886407  636.5774143225469  ...   \n",
       " 43   566.7322114343841  171.66409074208406  633.6052780294336  ...   \n",
       " 48   568.2182795809407   174.6362270351974  636.5774143225469  ...   \n",
       " 68   574.1625521671674   174.6362270351974  638.0634824691036  ...   \n",
       " 79   574.1625521671674   171.6640907420841  635.0913461759903  ...   \n",
       " 89   566.7322114343841  167.20588630241411  636.5774143225469  ...   \n",
       " 105   571.190415874054  171.66409074208406  633.6052780294336  ...   \n",
       " \n",
       "                  AVS.14              AVS.15              AVS.16  \\\n",
       " 3    369.08514794234867  242.99536177680352   355.7105346233388   \n",
       " 43    370.5712160889053  242.99536177680346   361.6548072095654   \n",
       " 48    397.3204427269252  238.53715733713358  348.28019389055544   \n",
       " 68    378.0015568216886  237.05108919057687  339.36378501121555   \n",
       " 79    366.1130116492354   250.4257025095868  349.76626203711214   \n",
       " 89    345.3080575974422  190.98297664732053  334.90558057154556   \n",
       " 105  297.75387690762915  232.59288475090688   325.9891716922056   \n",
       " \n",
       "                  AVS.17              AVS.18              AVS.19  \\\n",
       " 3     295.0077469062865  300.72601320074244   391.6021764324692   \n",
       " 43   196.92724923354717   311.1284902266391  385.65790384624256   \n",
       " 48   185.03870406109388  305.18421764041244   387.1439719927992   \n",
       " 68    286.0913380269466  305.18421764041244   391.6021764324692   \n",
       " 79   189.49690850076388   337.8777168646589  284.60526988038987   \n",
       " 89    280.1470654407199  315.58669466630903   390.1161082859125   \n",
       " 105  195.44118108699047   311.1284902266391  393.08824457902585   \n",
       " \n",
       "                  AVS.20              AVS.21 AVS.22 AVS.23  \n",
       " 3     348.2801938905555  428.75388009638567    NaN    NaN  \n",
       " 43   357.19660276989543   421.3235393636023    NaN    NaN  \n",
       " 48    345.3080575974422  413.89319863081903    NaN    NaN  \n",
       " 68    343.8219894508855    418.351403070489    NaN    NaN  \n",
       " 79                  NaN                 NaN    NaN    NaN  \n",
       " 89    343.8219894508855  413.89319863081903    NaN    NaN  \n",
       " 105  342.33592130432885   419.8374712170457    NaN    NaN  \n",
       " \n",
       " [7 rows x 27 columns],\n",
       " '/Users/annastuckert/Documents/GitHub/ViT_facemap/ViT-pytorch/data/facemap/data_No_NaN/train/train_data.csv',\n",
       " '/Users/annastuckert/Documents/GitHub/ViT_facemap/ViT-pytorch/data/facemap/data_No_NaN/test/test_data.csv')"
      ]
     },
     "execution_count": 2,
     "metadata": {},
     "output_type": "execute_result"
    }
   ],
   "source": [
    "# Define paths\n",
    "csv_path = \"/Users/annastuckert/Documents/GitHub/ViT_facemap/ViT-pytorch/data/facemap/CollectedData_AVS.csv\"\n",
    "dest_folder = \"/Users/annastuckert/Documents/GitHub/ViT_facemap/ViT-pytorch/data/facemap/data_No_NaN\"\n",
    "source_folder = \"/Users/annastuckert/Documents/GitHub/ViT_facemap/ViT-pytorch/data/facemap\"\n",
    "\n",
    "# Call the function to process data\n",
    "test_train_split(csv_path, source_folder, dest_folder)"
   ]
  }
 ],
 "metadata": {
  "kernelspec": {
   "display_name": "base",
   "language": "python",
   "name": "python3"
  },
  "language_info": {
   "codemirror_mode": {
    "name": "ipython",
    "version": 3
   },
   "file_extension": ".py",
   "mimetype": "text/x-python",
   "name": "python",
   "nbconvert_exporter": "python",
   "pygments_lexer": "ipython3",
   "version": "3.11.5"
  }
 },
 "nbformat": 4,
 "nbformat_minor": 2
}
