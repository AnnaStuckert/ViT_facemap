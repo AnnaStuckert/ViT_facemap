{
 "cells": [
  {
   "cell_type": "code",
   "execution_count": 1,
   "metadata": {},
   "outputs": [],
   "source": [
    "import numpy as np\n",
    "from skimage import io\n",
    "from skimage.transform import resize\n",
    "\n",
    "# Load the target image\n",
    "image = io.imread('img9799_pad_rescale_augmented.jpg') #change as needed to generate images for testing registration\n",
    "image = image[:, :, :3]  # Ensure it's a 3-channel image\n",
    "\n",
    "# Define the shift amounts for upward and leftward shifts\n",
    "up_shift = 20  # Number of pixels to shift up\n",
    "left_shift = 20  # Number of pixels to shift left\n",
    "\n",
    "# Pad the image first to accommodate the shift\n",
    "padded_image = np.pad(image, ((up_shift, 0), (left_shift, 0), (0, 0)), 'constant')\n",
    "\n",
    "# Now move the image data to the new location in the padded array\n",
    "new_image = padded_image[:-up_shift, :-left_shift, :]\n",
    "\n",
    "# Resize the shifted image back to 224x224 pixels to maintain the target size\n",
    "final_image = resize(new_image, (224, 224), anti_aliasing=True)\n",
    "\n",
    "# Save the modified image\n",
    "io.imsave('Shifted_Target_img_224x224_L.jpg', (final_image * 255).astype(np.uint8))  # Convert back to uint8\n"
   ]
  },
  {
   "cell_type": "code",
   "execution_count": 2,
   "metadata": {},
   "outputs": [],
   "source": [
    "import numpy as np\n",
    "from skimage import io\n",
    "from skimage.transform import resize\n",
    "\n",
    "# Load the target image\n",
    "image = io.imread('Target_img9160_pad_rescale_augmented.jpg')\n",
    "image = image[:, :, :3]  # Ensure it's a 3-channel image\n",
    "\n",
    "# Define the shift amounts for downward and rightward shifts\n",
    "down_shift = 20  # Number of pixels to shift down\n",
    "right_shift = 20  # Number of pixels to shift right\n",
    "\n",
    "# Pad the image first to accommodate the shift\n",
    "# Pad on the opposite sides from before (bottom and right instead of top and left)\n",
    "padded_image = np.pad(image, ((0, down_shift), (0, right_shift), (0, 0)), 'constant')\n",
    "\n",
    "# Since the padding adds to the bottom and right, remove the top and left parts of the image to shift it\n",
    "shifted_image = padded_image[down_shift:, right_shift:, :]\n",
    "\n",
    "# Resize the shifted image back to 224x224 pixels to maintain the target size\n",
    "final_image = resize(shifted_image, (224, 224), anti_aliasing=True)\n",
    "\n",
    "# Save the modified image\n",
    "io.imsave('Shifted_Target_img_224x224_R.jpg', (final_image * 255).astype(np.uint8))  # Convert back to uint8\n"
   ]
  },
  {
   "cell_type": "markdown",
   "metadata": {},
   "source": [
    "enlargen image"
   ]
  },
  {
   "cell_type": "code",
   "execution_count": 3,
   "metadata": {},
   "outputs": [],
   "source": [
    "import numpy as np\n",
    "from skimage import io\n",
    "from skimage.transform import resize\n",
    "\n",
    "# Load the image\n",
    "image = io.imread('Target_img9160_pad_rescale_augmented.jpg')\n",
    "\n",
    "# Define the enlargement by cropping less aggressively\n",
    "crop_margin = int(0.05 * image.shape[0])  # 5% from each side\n",
    "\n",
    "# Calculate new boundaries for cropping\n",
    "start_row = crop_margin\n",
    "end_row = image.shape[0] - crop_margin\n",
    "start_col = crop_margin\n",
    "end_col = image.shape[1] - crop_margin\n",
    "\n",
    "# Crop the image for enlargement\n",
    "cropped_image = image[start_row:end_row, start_col:end_col]\n",
    "\n",
    "# Define the shift amounts for downward and rightward shifts (e.g., 5% of the new dimensions)\n",
    "down_shift = int(0.05 * cropped_image.shape[0])\n",
    "right_shift = int(0.05 * cropped_image.shape[1])\n",
    "\n",
    "# Pad the cropped image on the bottom and right for shifting\n",
    "padded_image = np.pad(cropped_image, ((0, down_shift), (0, right_shift), (0, 0)), 'constant')\n",
    "\n",
    "# Remove the top and left parts of the padded image to effect the shift\n",
    "final_image = padded_image[down_shift:, right_shift:, :]\n",
    "\n",
    "# Resize back to the original size of 224x224 pixels\n",
    "resized_image = resize(final_image, (224, 224), anti_aliasing=True)\n",
    "\n",
    "# Save the modified image\n",
    "io.imsave('modified_image.jpg', (resized_image * 255).astype(np.uint8))  # Convert back to uint8\n"
   ]
  },
  {
   "cell_type": "markdown",
   "metadata": {},
   "source": [
    "#move and enlarge"
   ]
  },
  {
   "cell_type": "code",
   "execution_count": 4,
   "metadata": {},
   "outputs": [],
   "source": [
    "import numpy as np\n",
    "from skimage import io\n",
    "from skimage.transform import resize\n",
    "\n",
    "# Load the image\n",
    "image = io.imread('Target_img9160_pad_rescale_augmented.jpg')\n",
    "\n",
    "# Define the enlargement by cropping less aggressively\n",
    "crop_margin = int(0.05 * image.shape[0])  # 5% from each side\n",
    "\n",
    "# Calculate new boundaries for cropping\n",
    "start_row = crop_margin\n",
    "end_row = image.shape[0] - crop_margin\n",
    "start_col = crop_margin\n",
    "end_col = image.shape[1] - crop_margin\n",
    "\n",
    "# Crop the image for enlargement\n",
    "cropped_image = image[start_row:end_row, start_col:end_col]\n",
    "\n",
    "# Define the shift amounts for downward and rightward shifts (e.g., 5% of the new dimensions)\n",
    "down_shift = int(0.05 * cropped_image.shape[0])\n",
    "right_shift = int(0.05 * cropped_image.shape[1])\n",
    "\n",
    "# Pad the cropped image on the bottom and right for shifting\n",
    "padded_image = np.pad(cropped_image, ((0, down_shift), (0, right_shift), (0, 0)), 'constant')\n",
    "\n",
    "# Remove the top and left parts of the padded image to effect the shift\n",
    "final_image = padded_image[down_shift:, right_shift:, :]\n",
    "\n",
    "# Resize back to the original size if needed\n",
    "resized_image = resize(final_image, (224, 224), anti_aliasing=True)\n",
    "\n",
    "# Save the modified image\n",
    "io.imsave('modified_image.jpg', (resized_image * 255).astype(np.uint8))  # Convert back to uint8"
   ]
  },
  {
   "cell_type": "markdown",
   "metadata": {},
   "source": [
    "Make image smaller"
   ]
  },
  {
   "cell_type": "markdown",
   "metadata": {},
   "source": []
  },
  {
   "cell_type": "code",
   "execution_count": 5,
   "metadata": {},
   "outputs": [],
   "source": [
    "import numpy as np\n",
    "from skimage import io\n",
    "from skimage.transform import resize\n",
    "\n",
    "# Load the image\n",
    "image = io.imread('Target_img9160_pad_rescale_augmented.jpg')\n",
    "\n",
    "# Define target size and calculate the scale factor to make the image smaller\n",
    "target_size = (224, 224)  # Target dimensions\n",
    "scale_factor = 0.9  # Adjust scale factor as needed to make the image slightly smaller\n",
    "\n",
    "# Calculate new dimensions based on the scale factor\n",
    "new_width = int(image.shape[1] * scale_factor)\n",
    "new_height = int(image.shape[0] * scale_factor)\n",
    "\n",
    "# Resize the image to the new dimensions\n",
    "smaller_image = resize(image, (new_height, new_width), anti_aliasing=True)\n",
    "\n",
    "# Calculate padding to center the image within the target size\n",
    "padding_height = (target_size[0] - new_height) // 2\n",
    "padding_width = (target_size[1] - new_width) // 2\n",
    "\n",
    "# Apply padding to the smaller image to make it 224x224\n",
    "padded_image = np.pad(\n",
    "    smaller_image,\n",
    "    ((padding_height, target_size[0] - new_height - padding_height), \n",
    "     (padding_width, target_size[1] - new_width - padding_width),\n",
    "     (0, 0)),\n",
    "    'constant', constant_values=0)\n",
    "\n",
    "# Save the modified image\n",
    "io.imsave('final_image_224x224.jpg', (padded_image * 255).astype(np.uint8))  # Convert back to uint8"
   ]
  },
  {
   "cell_type": "markdown",
   "metadata": {},
   "source": [
    "Resizing the rotated images"
   ]
  },
  {
   "cell_type": "code",
   "execution_count": 2,
   "metadata": {},
   "outputs": [],
   "source": [
    "import numpy as np\n",
    "from skimage import io\n",
    "from skimage.transform import resize\n",
    "\n",
    "# Load the image\n",
    "image_path = 'img9563_rotate_rescale_augmented.jpg'  # Replace with your image path\n",
    "image = io.imread(image_path)\n",
    "\n",
    "# Resize the image to 224x224 pixels\n",
    "resized_image = resize(image, (224, 224), anti_aliasing=True)\n",
    "\n",
    "# Save the resized image\n",
    "io.imsave('resized_image_224x224.jpg', (resized_image * 255).astype(np.uint8))  # Convert back to uint8 if needed\n"
   ]
  }
 ],
 "metadata": {
  "kernelspec": {
   "display_name": "base",
   "language": "python",
   "name": "python3"
  },
  "language_info": {
   "codemirror_mode": {
    "name": "ipython",
    "version": 3
   },
   "file_extension": ".py",
   "mimetype": "text/x-python",
   "name": "python",
   "nbconvert_exporter": "python",
   "pygments_lexer": "ipython3",
   "version": "3.11.5"
  }
 },
 "nbformat": 4,
 "nbformat_minor": 2
}
