{
 "cells": [
  {
   "cell_type": "code",
   "execution_count": null,
   "metadata": {},
   "outputs": [],
   "source": [
    "import deeplabcut.core.metrics.distance_metrics as distance_metrics\n",
    "from deeplabcut.core.metrics.api import compute_metrics"
   ]
  },
  {
   "cell_type": "markdown",
   "metadata": {},
   "source": [
    "    Examples:\n",
    "        >>> # Define the p-cutoff, prediction, and target DataFrames\n",
    "        >>> pcutoff = 0.5\n",
    "        >>> ground_truth = {\"img0\": np.array([[[1.0, 1.0, 2.0], ...], ...]), ...}\n",
    "        >>> predictions = {\"img0\": np.array([[[2.0, 1.0, 0.4], ...], ...]), ...}\n",
    "        >>> scores = compute_metrics(ground_truth, predictions, pcutoff=pcutoff)\n",
    "        >>> print(scores)\n",
    "        {\n",
    "            \"rmse\": 1.0,\n",
    "            \"rmse_pcutoff\": 0.0,\n",
    "            'mAP': 84.2,\n",
    "            'mAR': 74.5\n",
    "        }  # Sample output scores\n",
    "    \"\"\""
   ]
  },
  {
   "cell_type": "code",
   "execution_count": 1,
   "metadata": {},
   "outputs": [
    {
     "name": "stdout",
     "output_type": "stream",
     "text": [
      "RMSE: 27.33668304397683\n",
      "MAE: 19.203262015995936\n"
     ]
    }
   ],
   "source": [
    "import pandas as pd\n",
    "import numpy as np\n",
    "from sklearn.metrics import mean_squared_error, mean_absolute_error\n",
    "\n",
    "# Load CSV files\n",
    "new_predictions_path = '/Users/annastuckert/Downloads/predictions.csv'\n",
    "labels_path = '/Users/annastuckert/Downloads/labels.csv'\n",
    "\n",
    "new_predictions_df = pd.read_csv(new_predictions_path)\n",
    "labels_df = pd.read_csv(labels_path)\n",
    "\n",
    "# Normalize the 'image_names' columns by stripping whitespace and converting to lowercase\n",
    "new_predictions_df['image_names'] = new_predictions_df['image_names'].str.strip().str.lower()\n",
    "labels_df['image_names'] = labels_df['image_names'].str.strip().str.lower()\n",
    "\n",
    "# Remove duplicate 'image_names' column from labels_df if it exists\n",
    "labels_df = labels_df.loc[:, ~labels_df.columns.duplicated()]\n",
    "\n",
    "# Merge the dataframes based on 'image_names'\n",
    "merged_df = pd.merge(\n",
    "    new_predictions_df, labels_df, on='image_names', suffixes=('_pred', '_true'), how='inner'\n",
    ")\n",
    "\n",
    "# Check if the merged dataframe is empty\n",
    "if merged_df.empty:\n",
    "    print(\"No matching image names found after normalization. Please check the input files.\")\n",
    "else:\n",
    "    # Extract keypoint data using corrected column selection\n",
    "    predicted_keypoints = merged_df.filter(regex='_pred$').values\n",
    "    true_keypoints = merged_df.filter(regex='_true$').values\n",
    "\n",
    "    # Calculate RMSE and MAE\n",
    "    rmse = np.sqrt(mean_squared_error(true_keypoints, predicted_keypoints))\n",
    "    mae = mean_absolute_error(true_keypoints, predicted_keypoints)\n",
    "\n",
    "    print(\"RMSE:\", rmse)\n",
    "    print(\"MAE:\", mae)\n"
   ]
  }
 ],
 "metadata": {
  "kernelspec": {
   "display_name": "base",
   "language": "python",
   "name": "python3"
  },
  "language_info": {
   "codemirror_mode": {
    "name": "ipython",
    "version": 3
   },
   "file_extension": ".py",
   "mimetype": "text/x-python",
   "name": "python",
   "nbconvert_exporter": "python",
   "pygments_lexer": "ipython3",
   "version": "3.11.5"
  }
 },
 "nbformat": 4,
 "nbformat_minor": 2
}
